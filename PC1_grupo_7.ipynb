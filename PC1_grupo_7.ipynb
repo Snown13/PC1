{
 "cells": [
  {
   "cell_type": "markdown",
   "metadata": {},
   "source": [
    "# Descarga de datos"
   ]
  },
  {
   "cell_type": "code",
   "execution_count": 1,
   "metadata": {},
   "outputs": [],
   "source": [
    "import requests\n",
    "import os\n",
    "import pandas as pd\n",
    "import numpy as np\n",
    "import matplotlib.pyplot as plt\n",
    "import seaborn as sns"
   ]
  },
  {
   "cell_type": "code",
   "execution_count": 2,
   "metadata": {},
   "outputs": [],
   "source": [
    "\n",
    "url_red = 'http://archive.ics.uci.edu/ml/machine-learning-databases/wine-quality/winequality-red.csv'\n",
    "url_white = 'http://archive.ics.uci.edu/ml/machine-learning-databases/wine-quality/winequality-white.csv'\n",
    "\n",
    "os.makedirs('../data/raw', exist_ok=True)\n",
    "os.makedirs('../data/processed', exist_ok=True)\n",
    "\n",
    "with open('../data/raw/winequality-red.csv', 'wb') as red:\n",
    "    red.write(requests.get(url_red).content)\n",
    "with open('../data/raw/winequality-white.csv', 'wb') as white:\n",
    "    white.write(requests.get(url_white).content)"
   ]
  },
  {
   "cell_type": "markdown",
   "metadata": {},
   "source": [
    "# Combinar los datos"
   ]
  },
  {
   "cell_type": "code",
   "execution_count": 3,
   "metadata": {},
   "outputs": [],
   "source": [
    "\n",
    "red_df = pd.read_csv('../data/raw/winequality-red.csv', sep=';')\n",
    "white_df = pd.read_csv('../data/raw/winequality-white.csv', sep=';')\n",
    "\n",
    "red_df['type'] = 'red'\n",
    "white_df['type'] = 'white'\n",
    "\n",
    "wines_df = pd.concat([red_df, white_df], ignore_index=True)\n",
    "wines_df.to_csv('../data/processed/wines.csv', index=False)"
   ]
  },
  {
   "cell_type": "markdown",
   "metadata": {},
   "source": [
    "### Conteo de Registros y variables"
   ]
  },
  {
   "cell_type": "code",
   "execution_count": 4,
   "metadata": {},
   "outputs": [
    {
     "name": "stdout",
     "output_type": "stream",
     "text": [
      "<class 'pandas.core.frame.DataFrame'>\n",
      "RangeIndex: 12 entries, 0 to 11\n",
      "Data columns (total 2 columns):\n",
      " #   Column  Non-Null Count  Dtype \n",
      "---  ------  --------------  ----- \n",
      " 0   <html>  12 non-null     object\n",
      " 1   type    12 non-null     object\n",
      "dtypes: object(2)\n",
      "memory usage: 324.0+ bytes\n",
      "None\n",
      "(12, 2)\n"
     ]
    }
   ],
   "source": [
    "print(wines_df.info())\n",
    "print(wines_df.shape)"
   ]
  },
  {
   "cell_type": "code",
   "execution_count": 5,
   "metadata": {},
   "outputs": [
    {
     "name": "stdout",
     "output_type": "stream",
     "text": [
      "Observamos que tenemos 12 registros, con 0 valores nulos y 2 variables\n",
      "El tipo de variables es: \n",
      "\n",
      "object    2\n",
      "Name: count, dtype: int64\n"
     ]
    }
   ],
   "source": [
    "var_type = wines_df.dtypes.value_counts()\n",
    "print(f'Observamos que tenemos {wines_df.shape[0]} registros, con {wines_df.isnull().sum().sum()} valores nulos y {wines_df.shape[1]} variables')\n",
    "print(f'El tipo de variables es: \\n\\n{var_type}')"
   ]
  },
  {
   "cell_type": "markdown",
   "metadata": {},
   "source": [
    "## Filtrar Atípicos y Manejar Datos Ausentes"
   ]
  }
 ],
 "metadata": {
  "kernelspec": {
   "display_name": "base",
   "language": "python",
   "name": "python3"
  },
  "language_info": {
   "codemirror_mode": {
    "name": "ipython",
    "version": 3
   },
   "file_extension": ".py",
   "mimetype": "text/x-python",
   "name": "python",
   "nbconvert_exporter": "python",
   "pygments_lexer": "ipython3",
   "version": "3.12.7"
  }
 },
 "nbformat": 4,
 "nbformat_minor": 2
}
